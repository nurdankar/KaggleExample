{
  "nbformat": 4,
  "nbformat_minor": 0,
  "metadata": {
    "colab": {
      "name": "Pima-Indians-Diabetes-Dataset.ipynb",
      "provenance": [],
      "collapsed_sections": [],
      "toc_visible": true,
      "authorship_tag": "ABX9TyM+nfSyHIZO3RbqS5XtCuft",
      "include_colab_link": true
    },
    "kernelspec": {
      "name": "python3",
      "display_name": "Python 3"
    },
    "accelerator": "GPU"
  },
  "cells": [
    {
      "cell_type": "markdown",
      "metadata": {
        "id": "view-in-github",
        "colab_type": "text"
      },
      "source": [
        "<a href=\"https://colab.research.google.com/github/nurdankar/KaggleExample/blob/main/Pima_Indians_Diabetes_Dataset.ipynb\" target=\"_parent\"><img src=\"https://colab.research.google.com/assets/colab-badge.svg\" alt=\"Open In Colab\"/></a>"
      ]
    },
    {
      "cell_type": "markdown",
      "metadata": {
        "id": "YZTEf6ZQpxS8"
      },
      "source": [
        "# Pima Indians Onset of Diabetes Dataset\n",
        "\n",
        "Bu veri seti, Pima kızılderilileri için hasta kayıtlarını ve son beş yılda hastalarda diyabet başlangıcı olup olmadığını tanımlamaktadır. Burada ikili sınıflandırma(binary classification) problemi söz konusudur. Yani diyabet başlangıcı ise 1, değil ise 0 şeklinde sınıflandırma yapılmaktadır. Hastaları tanımlayan giriş değerlerinin tamamı sayısaldır. Bu ise sayısal girdi ve çıktı değerleri bekleyen sinir ağları ile çalışmayı kolaylaştıran bir faktördür. "
      ]
    },
    {
      "cell_type": "markdown",
      "metadata": {
        "id": "qnwMSDQ8mrHE"
      },
      "source": [
        "## Kimlik Doğrulama"
      ]
    },
    {
      "cell_type": "markdown",
      "metadata": {
        "id": "I7ZIm_8twVUx"
      },
      "source": [
        "İlk olarak Google Colab'da çalışabilmek için gerekli işlemleri yapalım."
      ]
    },
    {
      "cell_type": "code",
      "metadata": {
        "id": "ZJvhZoxgPF5o",
        "outputId": "db380d55-1bbd-411c-b30f-e84a698bea4b",
        "colab": {
          "base_uri": "https://localhost:8080/",
          "height": 52
        }
      },
      "source": [
        "from google.colab import drive\n",
        "drive.mount('/gdrive')\n",
        "%cd /gdrive"
      ],
      "execution_count": null,
      "outputs": [
        {
          "output_type": "stream",
          "text": [
            "Mounted at /gdrive\n",
            "/gdrive\n"
          ],
          "name": "stdout"
        }
      ]
    },
    {
      "cell_type": "markdown",
      "metadata": {
        "id": "5yUU2R9wnW-x"
      },
      "source": [
        "## Dosya Kontrolü"
      ]
    },
    {
      "cell_type": "code",
      "metadata": {
        "id": "mCY5w1Vcdfsu",
        "outputId": "3af10a57-6e54-4412-e380-c2d5289fdbaf",
        "colab": {
          "base_uri": "https://localhost:8080/",
          "height": 34
        }
      },
      "source": [
        "import os\n",
        "os.chdir('/gdrive/My Drive/Calısma_Ortamı/Kaggle/')\n",
        "!ls"
      ],
      "execution_count": null,
      "outputs": [
        {
          "output_type": "stream",
          "text": [
            "Pima-Indians-Diabetes-Dataset.ipynb\n"
          ],
          "name": "stdout"
        }
      ]
    },
    {
      "cell_type": "markdown",
      "metadata": {
        "id": "zFDzFWPsncu_"
      },
      "source": [
        "## Kaggle'dan Colab'a Veriseti Import Etme"
      ]
    },
    {
      "cell_type": "code",
      "metadata": {
        "id": "-PoYqfLRmJt7",
        "outputId": "0a5f64ba-9b06-4ccf-bf16-607b92dac742",
        "colab": {
          "base_uri": "https://localhost:8080/",
          "height": 230
        }
      },
      "source": [
        "!pip install kaggle"
      ],
      "execution_count": null,
      "outputs": [
        {
          "output_type": "stream",
          "text": [
            "Requirement already satisfied: kaggle in /usr/local/lib/python3.6/dist-packages (1.5.8)\n",
            "Requirement already satisfied: urllib3<1.25,>=1.21.1 in /usr/local/lib/python3.6/dist-packages (from kaggle) (1.24.3)\n",
            "Requirement already satisfied: python-slugify in /usr/local/lib/python3.6/dist-packages (from kaggle) (4.0.1)\n",
            "Requirement already satisfied: tqdm in /usr/local/lib/python3.6/dist-packages (from kaggle) (4.41.1)\n",
            "Requirement already satisfied: slugify in /usr/local/lib/python3.6/dist-packages (from kaggle) (0.0.1)\n",
            "Requirement already satisfied: python-dateutil in /usr/local/lib/python3.6/dist-packages (from kaggle) (2.8.1)\n",
            "Requirement already satisfied: certifi in /usr/local/lib/python3.6/dist-packages (from kaggle) (2020.6.20)\n",
            "Requirement already satisfied: requests in /usr/local/lib/python3.6/dist-packages (from kaggle) (2.23.0)\n",
            "Requirement already satisfied: six>=1.10 in /usr/local/lib/python3.6/dist-packages (from kaggle) (1.15.0)\n",
            "Requirement already satisfied: text-unidecode>=1.3 in /usr/local/lib/python3.6/dist-packages (from python-slugify->kaggle) (1.3)\n",
            "Requirement already satisfied: chardet<4,>=3.0.2 in /usr/local/lib/python3.6/dist-packages (from requests->kaggle) (3.0.4)\n",
            "Requirement already satisfied: idna<3,>=2.5 in /usr/local/lib/python3.6/dist-packages (from requests->kaggle) (2.10)\n"
          ],
          "name": "stdout"
        }
      ]
    },
    {
      "cell_type": "markdown",
      "metadata": {
        "id": "F9xGb4oDAFRj"
      },
      "source": [
        "### Kaggle Hesabından Gerekli Dosyaların Yüklenmesi\n",
        "İlk olarak bir Kaggle hesabı ediniyoruz ve\n",
        "\n",
        "> Kaggle > My Account > Create New API Token\n",
        "\n",
        "adımlarını takip ettikten sonra bilgisayarımıza inen `kaggle.json` dosyasını aşağıdaki hücrenin çalışmasının ardından `Dosyaları Seç` butonuna tıklayarak Colab'a yüklüyoruz."
      ]
    },
    {
      "cell_type": "code",
      "metadata": {
        "id": "nUSAXPzDmLXL",
        "outputId": "86e3cb18-22f3-492a-f4f2-8ae4fb2a29f9",
        "colab": {
          "resources": {
            "http://localhost:8080/nbextensions/google.colab/files.js": {
              "data": "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",
              "ok": true,
              "headers": [
                [
                  "content-type",
                  "application/javascript"
                ]
              ],
              "status": 200,
              "status_text": ""
            }
          },
          "base_uri": "https://localhost:8080/",
          "height": 91
        }
      },
      "source": [
        "from google.colab import files\n",
        "files.upload()"
      ],
      "execution_count": null,
      "outputs": [
        {
          "output_type": "display_data",
          "data": {
            "text/html": [
              "\n",
              "     <input type=\"file\" id=\"files-f4ac8a20-b31f-4b0d-a399-ae7b8b696c36\" name=\"files[]\" multiple disabled\n",
              "        style=\"border:none\" />\n",
              "     <output id=\"result-f4ac8a20-b31f-4b0d-a399-ae7b8b696c36\">\n",
              "      Upload widget is only available when the cell has been executed in the\n",
              "      current browser session. Please rerun this cell to enable.\n",
              "      </output>\n",
              "      <script src=\"/nbextensions/google.colab/files.js\"></script> "
            ],
            "text/plain": [
              "<IPython.core.display.HTML object>"
            ]
          },
          "metadata": {
            "tags": []
          }
        },
        {
          "output_type": "stream",
          "text": [
            "Saving kaggle.json to kaggle.json\n"
          ],
          "name": "stdout"
        },
        {
          "output_type": "execute_result",
          "data": {
            "text/plain": [
              "{'kaggle.json': b'{\"username\":\"nurdankar\",\"key\":\"20e18d978d8680d522c0f44ee35b058e\"}'}"
            ]
          },
          "metadata": {
            "tags": []
          },
          "execution_count": 6
        }
      ]
    },
    {
      "cell_type": "code",
      "metadata": {
        "id": "zTtM-iXrmPHN"
      },
      "source": [
        "!mkdir -p ~/.kaggle\n",
        "!cp kaggle.json ~/.kaggle/\n",
        "#change the permission\n",
        "!chmod 600 ~/.kaggle/kaggle.json"
      ],
      "execution_count": null,
      "outputs": []
    },
    {
      "cell_type": "markdown",
      "metadata": {
        "id": "wF4Fk6bsCdsS"
      },
      "source": [
        "### Veri Setini Kaggle'dan Colab'a Yükleme\n",
        "Kaggle'da, kullanacak olduğumuz veri setinin sayfası olan\n",
        "\n",
        "> https://www.kaggle.com/lianglirong/pima-indians-onset-of-diabetes\n",
        "\n",
        "linkine giderek, New Notebook yazısının yanındaki üç noktadan `Copy API Command` dedikten sonra aşağıdaki hücreye yapıştırıyoruz ve hücreyi çalıştırınca veri setini indirmiş oluyoruz.\n",
        "\n"
      ]
    },
    {
      "cell_type": "code",
      "metadata": {
        "id": "sFjK5uMeo5lK",
        "outputId": "edf95060-84c7-4e9e-f9f5-0454d1d6208a",
        "colab": {
          "base_uri": "https://localhost:8080/",
          "height": 70
        }
      },
      "source": [
        "!kaggle datasets download -d lianglirong/pima-indians-onset-of-diabetes"
      ],
      "execution_count": null,
      "outputs": [
        {
          "output_type": "stream",
          "text": [
            "Downloading pima-indians-onset-of-diabetes.zip to /gdrive/My Drive/Calısma_Ortamı/Kaggle\n",
            "\r  0% 0.00/8.77k [00:00<?, ?B/s]\n",
            "\r100% 8.77k/8.77k [00:00<00:00, 1.24MB/s]\n"
          ],
          "name": "stdout"
        }
      ]
    },
    {
      "cell_type": "markdown",
      "metadata": {
        "id": "r2rAwUguEwPq"
      },
      "source": [
        "Aşağıdaki gibi dosya kontrolü yaptığımızda veri setinin zip dosyası formunda indiğini göreceğiz. Ancak `csv` formatında olmasını istiyoruz."
      ]
    },
    {
      "cell_type": "code",
      "metadata": {
        "id": "lwlbQlUppSbc",
        "outputId": "7183cd78-dbd4-4b85-beb3-c94a1e8cf94d",
        "colab": {
          "base_uri": "https://localhost:8080/",
          "height": 52
        }
      },
      "source": [
        "!ls"
      ],
      "execution_count": null,
      "outputs": [
        {
          "output_type": "stream",
          "text": [
            "kaggle.json\t\t\t     pima-indians-onset-of-diabetes.zip\n",
            "Pima-Indians-Diabetes-Dataset.ipynb\n"
          ],
          "name": "stdout"
        }
      ]
    },
    {
      "cell_type": "markdown",
      "metadata": {
        "id": "5nqnYyilE_im"
      },
      "source": [
        "Aşağıdaki hücrede yer alan komut ile zip dosyasını csv formatına dönüştürüyoruz."
      ]
    },
    {
      "cell_type": "code",
      "metadata": {
        "id": "BrYQ6CsZp3Je",
        "outputId": "85d6ab30-f700-4e8c-c51c-1dc687d2e58e",
        "colab": {
          "base_uri": "https://localhost:8080/",
          "height": 52
        }
      },
      "source": [
        "!unzip \\*.zip  && rm *.zip"
      ],
      "execution_count": null,
      "outputs": [
        {
          "output_type": "stream",
          "text": [
            "Archive:  pima-indians-onset-of-diabetes.zip\n",
            "  inflating: pima_data.csv           \n"
          ],
          "name": "stdout"
        }
      ]
    },
    {
      "cell_type": "markdown",
      "metadata": {
        "id": "KJ9asgASFgp6"
      },
      "source": [
        "Tekrar dosya kontrolü yaptığımızda ise veri setinin artık csv uzantılı olduğunu görebiliriz."
      ]
    },
    {
      "cell_type": "code",
      "metadata": {
        "id": "MIGmsr5yp6Q0",
        "outputId": "cd6f59aa-e8f6-460c-d920-df64912756ac",
        "colab": {
          "base_uri": "https://localhost:8080/",
          "height": 34
        }
      },
      "source": [
        "!ls"
      ],
      "execution_count": null,
      "outputs": [
        {
          "output_type": "stream",
          "text": [
            "kaggle.json  pima_data.csv  Pima-Indians-Diabetes-Dataset.ipynb\n"
          ],
          "name": "stdout"
        }
      ]
    },
    {
      "cell_type": "markdown",
      "metadata": {
        "id": "e5NY6FRGnzRY"
      },
      "source": [
        "## Gerekli Kütüphanelerin Import Edilmesi"
      ]
    },
    {
      "cell_type": "code",
      "metadata": {
        "id": "wBVcx0C7fC9_"
      },
      "source": [
        "from numpy import loadtxt\n",
        "from keras.models import Sequential\n",
        "from keras.layers import Dense\n",
        "import matplotlib.pyplot as plt"
      ],
      "execution_count": null,
      "outputs": []
    },
    {
      "cell_type": "markdown",
      "metadata": {
        "id": "X9ikEC97oGS8"
      },
      "source": [
        "## Veri Setinin Yüklenmesi\n",
        "\n",
        "İlk olarak veriseti ve çalışılan notebook'un aynı dosya içinde olduğuna dikkat edilmelidir.\n",
        "\n",
        "\n",
        "Veri setinin özellikleri: Sekiz giriş değişkeni ve bir çıkış değişkeni(son sütun) vardır. Burada sekiz giriş değişkenini bir çıkış değişkenine eşleyen bir modeli göreceğiz öyle ki bu durumu giriş değişkeni `X` ve çıkış değişkeni `y` olmak üzere `y=f(X)` olarak ifade edeceğiz.\n",
        "\n",
        "Giriş değişkenlerini (X) aşağıdaki gibi ifade edebiliriz:\n",
        "\n",
        "\n",
        "1. Hamile kalma sayısı\n",
        "2. Oral glikoz tolerans testinde 2 saatlik plazma glikoz konsantrasyonu\n",
        "3. Diyastolik kan basıncı (mm Hg)\n",
        "4. Triceps deri kıvrım kalınlığı (mm)\n",
        "5. 2 saatlik serum insülini (mu U/ml)\n",
        "6. Vücut kitle indeksi (kg cinsinden ağırlık / (m cinsinden yükseklik) ^ 2)\n",
        "7. Diyabet soyağacı işlevi(aile geçmişine göre diyabet olasılığını puanlayan bir işlev)\n",
        "8. Yaş\n",
        "\n",
        "Çıkış değişkeni (y): \n",
        "\n",
        "1. Sınıf değişkeni (0 ya da 1)\n",
        "\n",
        "Şimdi veri setini yükleyebiliriz.\n",
        "\n",
        "\n",
        "\n",
        "\n",
        "\n",
        "\n",
        "\n",
        "\n",
        "\n",
        "\n",
        "\n",
        "\n"
      ]
    },
    {
      "cell_type": "code",
      "metadata": {
        "id": "v8ubnPJ4q7dt"
      },
      "source": [
        "dataset = loadtxt('pima_data.csv', delimiter=',')\n",
        "\n",
        "X = dataset[:,0:8]\n",
        "y = dataset[:,8]"
      ],
      "execution_count": null,
      "outputs": []
    },
    {
      "cell_type": "markdown",
      "metadata": {
        "id": "ciQJSktP1lrn"
      },
      "source": [
        "## Modelin Oluşturulması\n",
        "\n",
        "Bu adımda uygun gördüğümüz kadar katman ekleyerek bir `Sequential model` inşa ediyor olacağız. Kaç katman ekleneceği konusu sezgisel olmakla birlikte çoğunlukla deneme yanılma yoluyla en iyi ağ yapısı elde edilir. Biz bu örnekte üç katmanlı bir ağ yapısı kullanacağız. Giriş değişkeni sekiz olduğu için `input_dim = 8` ile bunu ayarlıyoruz. Farklı aktivasyon fonksiyonları seçilebileceği gibi daha iyi sonuçlar verdiği bilindiği için giriş katmanı ve ara katmanda `ReLU` fonksiyonunu kullanacağız. Ayrıca daha iyi sınıflandırma yapılabilmesi adına çıktı katmanında `Sigmoid` fonksiyonu kullanıyor olacağız."
      ]
    },
    {
      "cell_type": "code",
      "metadata": {
        "id": "56HqyFcZrHPC"
      },
      "source": [
        "model = Sequential()\n",
        "model.add(Dense(12, input_dim=8, activation='relu'))\n",
        "model.add(Dense(16, activation='relu'))\n",
        "model.add(Dense(1, activation='sigmoid'))"
      ],
      "execution_count": null,
      "outputs": []
    },
    {
      "cell_type": "markdown",
      "metadata": {
        "id": "lyNbz_Ky0J8W"
      },
      "source": [
        "## Modelin Derlenmesi\n",
        "\n",
        "Modelin derlenmesi, TensorFlow(veya farklı bir kütüphane) gerisinde sayısal kütüphanelerin kullanılmasını gerektirir. Burada ikili sınıflandırma problemi söz konusu olduğu için en uygun yitim(loss) argümanı olarak `binary_crossentropy` kullanacağız. Eniyileyici(optimizer) olarak ise farklı birçok algoritma kullanılabileceği gibi biz bu örnekte `Adam` algoritmasını tercih edeceğiz. Son olarak, sınıflandırma doğruluğunu kontrol etmek için metrik argümanını `accuracy` olarak alacağız."
      ]
    },
    {
      "cell_type": "code",
      "metadata": {
        "id": "RuYzibukrOer"
      },
      "source": [
        "model.compile(loss='binary_crossentropy', optimizer='adam', metrics=['accuracy'])"
      ],
      "execution_count": null,
      "outputs": []
    },
    {
      "cell_type": "markdown",
      "metadata": {
        "id": "FBzAwNtAgS9f"
      },
      "source": [
        "## Modelin Eğitilmesi\n",
        "\n",
        "Bu aşamada `fit()` fonksiyonunu kullanarak yüklemiş olduğumuz verilere göre  modeli eğiteceğiz(veya uyduracağız). Veri seti, `validation_split=0.3` argümanı ile eğitim seti ve test seti olmak üzere iki gruba ayrılır. Bu modelde ise toplam verinin %70'i eğitim, %30'u ise test setidir. Epok(epoch) argümanı, her bir epok için tüm veri kümesinin, sinir ağında sadece epok sayısı kadar ileri ve geri tekrarının yapılması şeklinde açıklanabilir. Bu problemde epok sayısını 110 olarak alacağız. Derin öğrenme modelleri tüm verileri bir kerede kullanmak yerine küçük yığınlara(batch) ayırır. Burada yığın büyüklüğünü `batch_size=12` olarak alacağız.  Ayrıca modelin eğitim sırasını ezberlemesinin önüne geçmek adına `shuffle=True` fonksiyonunu kullanacağız. Son olarak, verbose fonksiyonunun 0, 1, 2 değerlerini alabildiği bilgisini de göz önünde bulundurarak sonuçların bar biçiminde görselleştirilmesini istediğimiz için `verbose=1` olarak alacağız.\n",
        "\n",
        "> NOT: Colab'ın kendi dinamiğinden kaynaklı olarak modelin eğitilmesi aşamasında her epoktaki adım sayısı, toplam veri sayısı değil toplam yığın sayısı şeklinde gösterilebilmektedir. Daha açık olarak, validation_split argümanının dahil edilmemesi durumunda `yığın sayısı=veri sayısı/yığın büyüklüğü` eşitliği kullanılmaktadır diyebiliriz. Bu örnek için `768/12 = 64` olacaktır. Bu durum modelin eğitim süresi, doğruluk veya yitim değerleri gibi herhangi bir değerini etkilememektedir. Ancak burada validation_split=0.3 alındığı için (768*(70/100))/12=44,8 yani toplam verinin eğitim seti üzerinden elde edilen yığın sayısı, her epokta 45 adım olacak şekilde gösterilecektir.\n",
        "\n"
      ]
    },
    {
      "cell_type": "code",
      "metadata": {
        "id": "8tzyOU9OrVVl",
        "outputId": "63232dcf-6446-47f7-899f-3b26c0308ea9",
        "colab": {
          "base_uri": "https://localhost:8080/",
          "height": 1000
        }
      },
      "source": [
        "history = model.fit(X, y, validation_split=0.3, epochs=110, batch_size=12, shuffle=True, verbose=1)"
      ],
      "execution_count": null,
      "outputs": [
        {
          "output_type": "stream",
          "text": [
            "Epoch 1/110\n",
            "45/45 [==============================] - 0s 6ms/step - loss: 21.2823 - accuracy: 0.3520 - val_loss: 13.6275 - val_accuracy: 0.3420\n",
            "Epoch 2/110\n",
            "45/45 [==============================] - 0s 3ms/step - loss: 9.4527 - accuracy: 0.3557 - val_loss: 5.7871 - val_accuracy: 0.3766\n",
            "Epoch 3/110\n",
            "45/45 [==============================] - 0s 3ms/step - loss: 3.9592 - accuracy: 0.4898 - val_loss: 2.1139 - val_accuracy: 0.4892\n",
            "Epoch 4/110\n",
            "45/45 [==============================] - 0s 3ms/step - loss: 1.6546 - accuracy: 0.5810 - val_loss: 0.9112 - val_accuracy: 0.6061\n",
            "Epoch 5/110\n",
            "45/45 [==============================] - 0s 3ms/step - loss: 1.1028 - accuracy: 0.6387 - val_loss: 0.7743 - val_accuracy: 0.6190\n",
            "Epoch 6/110\n",
            "45/45 [==============================] - 0s 3ms/step - loss: 0.9532 - accuracy: 0.6425 - val_loss: 0.7699 - val_accuracy: 0.5671\n",
            "Epoch 7/110\n",
            "45/45 [==============================] - 0s 4ms/step - loss: 0.8588 - accuracy: 0.6443 - val_loss: 0.7599 - val_accuracy: 0.5801\n",
            "Epoch 8/110\n",
            "45/45 [==============================] - 0s 3ms/step - loss: 0.7853 - accuracy: 0.6425 - val_loss: 0.7543 - val_accuracy: 0.5974\n",
            "Epoch 9/110\n",
            "45/45 [==============================] - 0s 3ms/step - loss: 0.7432 - accuracy: 0.6462 - val_loss: 0.7392 - val_accuracy: 0.6407\n",
            "Epoch 10/110\n",
            "45/45 [==============================] - 0s 3ms/step - loss: 0.7174 - accuracy: 0.6462 - val_loss: 0.7255 - val_accuracy: 0.6147\n",
            "Epoch 11/110\n",
            "45/45 [==============================] - 0s 3ms/step - loss: 0.6963 - accuracy: 0.6555 - val_loss: 0.7231 - val_accuracy: 0.6061\n",
            "Epoch 12/110\n",
            "45/45 [==============================] - 0s 3ms/step - loss: 0.6828 - accuracy: 0.6536 - val_loss: 0.7183 - val_accuracy: 0.6017\n",
            "Epoch 13/110\n",
            "45/45 [==============================] - 0s 3ms/step - loss: 0.6729 - accuracy: 0.6518 - val_loss: 0.7177 - val_accuracy: 0.6104\n",
            "Epoch 14/110\n",
            "45/45 [==============================] - 0s 3ms/step - loss: 0.6591 - accuracy: 0.6555 - val_loss: 0.7019 - val_accuracy: 0.6364\n",
            "Epoch 15/110\n",
            "45/45 [==============================] - 0s 3ms/step - loss: 0.6659 - accuracy: 0.6629 - val_loss: 0.7123 - val_accuracy: 0.6017\n",
            "Epoch 16/110\n",
            "45/45 [==============================] - 0s 4ms/step - loss: 0.6435 - accuracy: 0.6685 - val_loss: 0.7073 - val_accuracy: 0.6234\n",
            "Epoch 17/110\n",
            "45/45 [==============================] - 0s 3ms/step - loss: 0.6339 - accuracy: 0.6778 - val_loss: 0.7135 - val_accuracy: 0.6320\n",
            "Epoch 18/110\n",
            "45/45 [==============================] - 0s 4ms/step - loss: 0.6384 - accuracy: 0.6797 - val_loss: 0.7130 - val_accuracy: 0.5974\n",
            "Epoch 19/110\n",
            "45/45 [==============================] - 0s 3ms/step - loss: 0.6325 - accuracy: 0.6723 - val_loss: 0.7035 - val_accuracy: 0.6104\n",
            "Epoch 20/110\n",
            "45/45 [==============================] - 0s 3ms/step - loss: 0.6215 - accuracy: 0.6760 - val_loss: 0.6950 - val_accuracy: 0.6277\n",
            "Epoch 21/110\n",
            "45/45 [==============================] - 0s 3ms/step - loss: 0.6194 - accuracy: 0.6834 - val_loss: 0.7061 - val_accuracy: 0.5801\n",
            "Epoch 22/110\n",
            "45/45 [==============================] - 0s 3ms/step - loss: 0.6269 - accuracy: 0.6797 - val_loss: 0.6872 - val_accuracy: 0.6407\n",
            "Epoch 23/110\n",
            "45/45 [==============================] - 0s 3ms/step - loss: 0.6171 - accuracy: 0.6965 - val_loss: 0.6878 - val_accuracy: 0.6104\n",
            "Epoch 24/110\n",
            "45/45 [==============================] - 0s 4ms/step - loss: 0.6186 - accuracy: 0.6909 - val_loss: 0.6861 - val_accuracy: 0.6147\n",
            "Epoch 25/110\n",
            "45/45 [==============================] - 0s 3ms/step - loss: 0.6148 - accuracy: 0.6760 - val_loss: 0.6808 - val_accuracy: 0.5931\n",
            "Epoch 26/110\n",
            "45/45 [==============================] - 0s 3ms/step - loss: 0.6083 - accuracy: 0.6965 - val_loss: 0.6820 - val_accuracy: 0.6061\n",
            "Epoch 27/110\n",
            "45/45 [==============================] - 0s 3ms/step - loss: 0.6086 - accuracy: 0.6927 - val_loss: 0.6784 - val_accuracy: 0.6190\n",
            "Epoch 28/110\n",
            "45/45 [==============================] - 0s 3ms/step - loss: 0.6004 - accuracy: 0.6965 - val_loss: 0.7026 - val_accuracy: 0.5844\n",
            "Epoch 29/110\n",
            "45/45 [==============================] - 0s 3ms/step - loss: 0.6206 - accuracy: 0.6816 - val_loss: 0.6850 - val_accuracy: 0.5714\n",
            "Epoch 30/110\n",
            "45/45 [==============================] - 0s 4ms/step - loss: 0.6078 - accuracy: 0.6872 - val_loss: 0.6790 - val_accuracy: 0.6017\n",
            "Epoch 31/110\n",
            "45/45 [==============================] - 0s 3ms/step - loss: 0.5993 - accuracy: 0.6946 - val_loss: 0.6779 - val_accuracy: 0.5714\n",
            "Epoch 32/110\n",
            "45/45 [==============================] - 0s 3ms/step - loss: 0.6043 - accuracy: 0.6965 - val_loss: 0.6706 - val_accuracy: 0.6017\n",
            "Epoch 33/110\n",
            "45/45 [==============================] - 0s 3ms/step - loss: 0.5929 - accuracy: 0.7076 - val_loss: 0.6638 - val_accuracy: 0.6234\n",
            "Epoch 34/110\n",
            "45/45 [==============================] - 0s 3ms/step - loss: 0.5920 - accuracy: 0.7002 - val_loss: 0.6612 - val_accuracy: 0.6190\n",
            "Epoch 35/110\n",
            "45/45 [==============================] - 0s 3ms/step - loss: 0.5923 - accuracy: 0.7076 - val_loss: 0.6627 - val_accuracy: 0.6364\n",
            "Epoch 36/110\n",
            "45/45 [==============================] - 0s 3ms/step - loss: 0.5978 - accuracy: 0.7002 - val_loss: 0.6623 - val_accuracy: 0.6364\n",
            "Epoch 37/110\n",
            "45/45 [==============================] - 0s 3ms/step - loss: 0.5980 - accuracy: 0.7076 - val_loss: 0.6694 - val_accuracy: 0.5887\n",
            "Epoch 38/110\n",
            "45/45 [==============================] - 0s 3ms/step - loss: 0.5978 - accuracy: 0.7076 - val_loss: 0.6906 - val_accuracy: 0.5801\n",
            "Epoch 39/110\n",
            "45/45 [==============================] - 0s 3ms/step - loss: 0.5935 - accuracy: 0.7114 - val_loss: 0.6600 - val_accuracy: 0.6364\n",
            "Epoch 40/110\n",
            "45/45 [==============================] - 0s 3ms/step - loss: 0.5905 - accuracy: 0.7039 - val_loss: 0.6854 - val_accuracy: 0.5844\n",
            "Epoch 41/110\n",
            "45/45 [==============================] - 0s 3ms/step - loss: 0.5893 - accuracy: 0.7207 - val_loss: 0.6567 - val_accuracy: 0.6407\n",
            "Epoch 42/110\n",
            "45/45 [==============================] - 0s 3ms/step - loss: 0.5878 - accuracy: 0.7095 - val_loss: 0.6684 - val_accuracy: 0.5974\n",
            "Epoch 43/110\n",
            "45/45 [==============================] - 0s 3ms/step - loss: 0.5912 - accuracy: 0.7039 - val_loss: 0.6702 - val_accuracy: 0.5974\n",
            "Epoch 44/110\n",
            "45/45 [==============================] - 0s 3ms/step - loss: 0.5913 - accuracy: 0.7076 - val_loss: 0.6668 - val_accuracy: 0.6104\n",
            "Epoch 45/110\n",
            "45/45 [==============================] - 0s 3ms/step - loss: 0.5821 - accuracy: 0.7207 - val_loss: 0.6517 - val_accuracy: 0.6407\n",
            "Epoch 46/110\n",
            "45/45 [==============================] - 0s 3ms/step - loss: 0.5825 - accuracy: 0.7300 - val_loss: 0.6488 - val_accuracy: 0.6364\n",
            "Epoch 47/110\n",
            "45/45 [==============================] - 0s 3ms/step - loss: 0.5865 - accuracy: 0.7132 - val_loss: 0.6535 - val_accuracy: 0.6364\n",
            "Epoch 48/110\n",
            "45/45 [==============================] - 0s 3ms/step - loss: 0.5787 - accuracy: 0.7095 - val_loss: 0.6632 - val_accuracy: 0.5974\n",
            "Epoch 49/110\n",
            "45/45 [==============================] - 0s 3ms/step - loss: 0.5815 - accuracy: 0.7151 - val_loss: 0.6474 - val_accuracy: 0.6494\n",
            "Epoch 50/110\n",
            "45/45 [==============================] - 0s 3ms/step - loss: 0.5782 - accuracy: 0.7244 - val_loss: 0.6548 - val_accuracy: 0.6277\n",
            "Epoch 51/110\n",
            "45/45 [==============================] - 0s 3ms/step - loss: 0.5806 - accuracy: 0.6983 - val_loss: 0.6422 - val_accuracy: 0.6364\n",
            "Epoch 52/110\n",
            "45/45 [==============================] - 0s 3ms/step - loss: 0.5890 - accuracy: 0.7020 - val_loss: 0.6433 - val_accuracy: 0.6537\n",
            "Epoch 53/110\n",
            "45/45 [==============================] - 0s 3ms/step - loss: 0.5741 - accuracy: 0.7169 - val_loss: 0.6419 - val_accuracy: 0.6623\n",
            "Epoch 54/110\n",
            "45/45 [==============================] - 0s 3ms/step - loss: 0.5795 - accuracy: 0.7151 - val_loss: 0.6618 - val_accuracy: 0.6017\n",
            "Epoch 55/110\n",
            "45/45 [==============================] - 0s 3ms/step - loss: 0.5802 - accuracy: 0.7002 - val_loss: 0.6397 - val_accuracy: 0.6537\n",
            "Epoch 56/110\n",
            "45/45 [==============================] - 0s 3ms/step - loss: 0.5738 - accuracy: 0.7132 - val_loss: 0.6398 - val_accuracy: 0.6623\n",
            "Epoch 57/110\n",
            "45/45 [==============================] - 0s 3ms/step - loss: 0.5785 - accuracy: 0.7039 - val_loss: 0.6414 - val_accuracy: 0.6494\n",
            "Epoch 58/110\n",
            "45/45 [==============================] - 0s 3ms/step - loss: 0.5691 - accuracy: 0.7281 - val_loss: 0.6392 - val_accuracy: 0.6494\n",
            "Epoch 59/110\n",
            "45/45 [==============================] - 0s 3ms/step - loss: 0.5706 - accuracy: 0.7095 - val_loss: 0.6392 - val_accuracy: 0.6667\n",
            "Epoch 60/110\n",
            "45/45 [==============================] - 0s 3ms/step - loss: 0.5733 - accuracy: 0.7337 - val_loss: 0.6382 - val_accuracy: 0.6580\n",
            "Epoch 61/110\n",
            "45/45 [==============================] - 0s 3ms/step - loss: 0.5683 - accuracy: 0.7225 - val_loss: 0.6321 - val_accuracy: 0.6667\n",
            "Epoch 62/110\n",
            "45/45 [==============================] - 0s 3ms/step - loss: 0.5658 - accuracy: 0.7300 - val_loss: 0.6368 - val_accuracy: 0.6580\n",
            "Epoch 63/110\n",
            "45/45 [==============================] - 0s 3ms/step - loss: 0.5670 - accuracy: 0.7076 - val_loss: 0.6322 - val_accuracy: 0.6623\n",
            "Epoch 64/110\n",
            "45/45 [==============================] - 0s 3ms/step - loss: 0.5661 - accuracy: 0.7318 - val_loss: 0.6394 - val_accuracy: 0.6320\n",
            "Epoch 65/110\n",
            "45/45 [==============================] - 0s 3ms/step - loss: 0.5629 - accuracy: 0.7244 - val_loss: 0.6430 - val_accuracy: 0.6320\n",
            "Epoch 66/110\n",
            "45/45 [==============================] - 0s 3ms/step - loss: 0.5647 - accuracy: 0.7132 - val_loss: 0.6301 - val_accuracy: 0.6623\n",
            "Epoch 67/110\n",
            "45/45 [==============================] - 0s 3ms/step - loss: 0.5638 - accuracy: 0.7337 - val_loss: 0.6278 - val_accuracy: 0.6710\n",
            "Epoch 68/110\n",
            "45/45 [==============================] - 0s 3ms/step - loss: 0.5601 - accuracy: 0.7263 - val_loss: 0.6262 - val_accuracy: 0.6710\n",
            "Epoch 69/110\n",
            "45/45 [==============================] - 0s 3ms/step - loss: 0.5598 - accuracy: 0.7318 - val_loss: 0.6342 - val_accuracy: 0.6883\n",
            "Epoch 70/110\n",
            "45/45 [==============================] - 0s 3ms/step - loss: 0.5625 - accuracy: 0.7207 - val_loss: 0.6246 - val_accuracy: 0.6840\n",
            "Epoch 71/110\n",
            "45/45 [==============================] - 0s 3ms/step - loss: 0.5591 - accuracy: 0.7356 - val_loss: 0.6251 - val_accuracy: 0.7013\n",
            "Epoch 72/110\n",
            "45/45 [==============================] - 0s 3ms/step - loss: 0.5533 - accuracy: 0.7449 - val_loss: 0.6291 - val_accuracy: 0.6537\n",
            "Epoch 73/110\n",
            "45/45 [==============================] - 0s 3ms/step - loss: 0.5539 - accuracy: 0.7281 - val_loss: 0.6229 - val_accuracy: 0.6797\n",
            "Epoch 74/110\n",
            "45/45 [==============================] - 0s 3ms/step - loss: 0.5558 - accuracy: 0.7263 - val_loss: 0.6267 - val_accuracy: 0.6926\n",
            "Epoch 75/110\n",
            "45/45 [==============================] - 0s 3ms/step - loss: 0.5569 - accuracy: 0.7393 - val_loss: 0.6314 - val_accuracy: 0.6450\n",
            "Epoch 76/110\n",
            "45/45 [==============================] - 0s 3ms/step - loss: 0.5490 - accuracy: 0.7393 - val_loss: 0.6283 - val_accuracy: 0.6450\n",
            "Epoch 77/110\n",
            "45/45 [==============================] - 0s 3ms/step - loss: 0.5518 - accuracy: 0.7225 - val_loss: 0.6179 - val_accuracy: 0.6797\n",
            "Epoch 78/110\n",
            "45/45 [==============================] - 0s 4ms/step - loss: 0.5467 - accuracy: 0.7356 - val_loss: 0.6305 - val_accuracy: 0.6494\n",
            "Epoch 79/110\n",
            "45/45 [==============================] - 0s 3ms/step - loss: 0.5474 - accuracy: 0.7374 - val_loss: 0.6160 - val_accuracy: 0.6710\n",
            "Epoch 80/110\n",
            "45/45 [==============================] - 0s 3ms/step - loss: 0.5495 - accuracy: 0.7281 - val_loss: 0.6238 - val_accuracy: 0.7100\n",
            "Epoch 81/110\n",
            "45/45 [==============================] - 0s 3ms/step - loss: 0.5475 - accuracy: 0.7356 - val_loss: 0.6128 - val_accuracy: 0.6883\n",
            "Epoch 82/110\n",
            "45/45 [==============================] - 0s 3ms/step - loss: 0.5422 - accuracy: 0.7356 - val_loss: 0.6397 - val_accuracy: 0.6277\n",
            "Epoch 83/110\n",
            "45/45 [==============================] - 0s 3ms/step - loss: 0.5568 - accuracy: 0.7151 - val_loss: 0.6113 - val_accuracy: 0.6797\n",
            "Epoch 84/110\n",
            "45/45 [==============================] - 0s 3ms/step - loss: 0.5494 - accuracy: 0.7337 - val_loss: 0.6333 - val_accuracy: 0.6364\n",
            "Epoch 85/110\n",
            "45/45 [==============================] - 0s 3ms/step - loss: 0.5443 - accuracy: 0.7393 - val_loss: 0.6161 - val_accuracy: 0.7056\n",
            "Epoch 86/110\n",
            "45/45 [==============================] - 0s 4ms/step - loss: 0.5412 - accuracy: 0.7393 - val_loss: 0.6059 - val_accuracy: 0.6753\n",
            "Epoch 87/110\n",
            "45/45 [==============================] - 0s 3ms/step - loss: 0.5410 - accuracy: 0.7300 - val_loss: 0.6130 - val_accuracy: 0.6753\n",
            "Epoch 88/110\n",
            "45/45 [==============================] - 0s 4ms/step - loss: 0.5396 - accuracy: 0.7263 - val_loss: 0.6210 - val_accuracy: 0.6407\n",
            "Epoch 89/110\n",
            "45/45 [==============================] - 0s 3ms/step - loss: 0.5384 - accuracy: 0.7467 - val_loss: 0.6163 - val_accuracy: 0.6580\n",
            "Epoch 90/110\n",
            "45/45 [==============================] - 0s 4ms/step - loss: 0.5402 - accuracy: 0.7356 - val_loss: 0.6088 - val_accuracy: 0.6797\n",
            "Epoch 91/110\n",
            "45/45 [==============================] - 0s 4ms/step - loss: 0.5391 - accuracy: 0.7337 - val_loss: 0.6034 - val_accuracy: 0.6840\n",
            "Epoch 92/110\n",
            "45/45 [==============================] - 0s 3ms/step - loss: 0.5331 - accuracy: 0.7393 - val_loss: 0.6096 - val_accuracy: 0.6797\n",
            "Epoch 93/110\n",
            "45/45 [==============================] - 0s 3ms/step - loss: 0.5400 - accuracy: 0.7318 - val_loss: 0.5961 - val_accuracy: 0.7013\n",
            "Epoch 94/110\n",
            "45/45 [==============================] - 0s 3ms/step - loss: 0.5316 - accuracy: 0.7374 - val_loss: 0.5960 - val_accuracy: 0.6970\n",
            "Epoch 95/110\n",
            "45/45 [==============================] - 0s 3ms/step - loss: 0.5348 - accuracy: 0.7412 - val_loss: 0.5963 - val_accuracy: 0.6970\n",
            "Epoch 96/110\n",
            "45/45 [==============================] - 0s 3ms/step - loss: 0.5475 - accuracy: 0.7337 - val_loss: 0.6099 - val_accuracy: 0.6667\n",
            "Epoch 97/110\n",
            "45/45 [==============================] - 0s 3ms/step - loss: 0.5417 - accuracy: 0.7244 - val_loss: 0.5927 - val_accuracy: 0.6970\n",
            "Epoch 98/110\n",
            "45/45 [==============================] - 0s 4ms/step - loss: 0.5296 - accuracy: 0.7505 - val_loss: 0.5921 - val_accuracy: 0.7056\n",
            "Epoch 99/110\n",
            "45/45 [==============================] - 0s 4ms/step - loss: 0.5338 - accuracy: 0.7356 - val_loss: 0.5919 - val_accuracy: 0.7056\n",
            "Epoch 100/110\n",
            "45/45 [==============================] - 0s 3ms/step - loss: 0.5312 - accuracy: 0.7523 - val_loss: 0.5924 - val_accuracy: 0.7013\n",
            "Epoch 101/110\n",
            "45/45 [==============================] - 0s 3ms/step - loss: 0.5362 - accuracy: 0.7244 - val_loss: 0.6098 - val_accuracy: 0.6840\n",
            "Epoch 102/110\n",
            "45/45 [==============================] - 0s 3ms/step - loss: 0.5388 - accuracy: 0.7263 - val_loss: 0.5859 - val_accuracy: 0.6970\n",
            "Epoch 103/110\n",
            "45/45 [==============================] - 0s 4ms/step - loss: 0.5298 - accuracy: 0.7505 - val_loss: 0.5829 - val_accuracy: 0.7143\n",
            "Epoch 104/110\n",
            "45/45 [==============================] - 0s 4ms/step - loss: 0.5271 - accuracy: 0.7486 - val_loss: 0.5830 - val_accuracy: 0.7013\n",
            "Epoch 105/110\n",
            "45/45 [==============================] - 0s 3ms/step - loss: 0.5245 - accuracy: 0.7374 - val_loss: 0.5846 - val_accuracy: 0.6970\n",
            "Epoch 106/110\n",
            "45/45 [==============================] - 0s 3ms/step - loss: 0.5222 - accuracy: 0.7449 - val_loss: 0.6066 - val_accuracy: 0.6537\n",
            "Epoch 107/110\n",
            "45/45 [==============================] - 0s 3ms/step - loss: 0.5230 - accuracy: 0.7412 - val_loss: 0.5817 - val_accuracy: 0.7056\n",
            "Epoch 108/110\n",
            "45/45 [==============================] - 0s 3ms/step - loss: 0.5230 - accuracy: 0.7430 - val_loss: 0.5867 - val_accuracy: 0.7013\n",
            "Epoch 109/110\n",
            "45/45 [==============================] - 0s 4ms/step - loss: 0.5275 - accuracy: 0.7393 - val_loss: 0.5810 - val_accuracy: 0.6970\n",
            "Epoch 110/110\n",
            "45/45 [==============================] - 0s 4ms/step - loss: 0.5250 - accuracy: 0.7449 - val_loss: 0.5792 - val_accuracy: 0.7013\n"
          ],
          "name": "stdout"
        }
      ]
    },
    {
      "cell_type": "markdown",
      "metadata": {
        "id": "ILUubFjDHrRR"
      },
      "source": [
        "## Modelin Değerlendirilmesi\n",
        "\n",
        "Bu adımda, yüklediğimiz veri seti üzerinde eğittiğimiz ağın yitim değerini ve doğruluğunu daha ayrıntılı olarak değerlendirebiliriz. Böylece problemi ne derece iyi modellediğimizi gözlemleyebiliriz."
      ]
    },
    {
      "cell_type": "code",
      "metadata": {
        "id": "IfslsrwV4poU",
        "outputId": "10c0082a-8b5a-4d3c-c205-a150ee7e99d9",
        "colab": {
          "base_uri": "https://localhost:8080/",
          "height": 34
        }
      },
      "source": [
        "print(history.history.keys())"
      ],
      "execution_count": null,
      "outputs": [
        {
          "output_type": "stream",
          "text": [
            "dict_keys(['loss', 'accuracy', 'val_loss', 'val_accuracy'])\n"
          ],
          "name": "stdout"
        }
      ]
    },
    {
      "cell_type": "code",
      "metadata": {
        "id": "rB5Z7vQIOTtY"
      },
      "source": [
        "accuracy = history.history['accuracy']\n",
        "val_accuracy = history.history['val_accuracy']\n",
        "loss = history.history['loss']\n",
        "val_loss = history.history['val_loss']"
      ],
      "execution_count": null,
      "outputs": []
    },
    {
      "cell_type": "markdown",
      "metadata": {
        "id": "S92qkWr6OuxL"
      },
      "source": [
        "Yitim değerlerini ve doğruluğu ayrıca görmek istersek aşağıda olduğu gibi kontrolünü yapabiliriz.\n"
      ]
    },
    {
      "cell_type": "code",
      "metadata": {
        "id": "jO7F51IovVfO",
        "outputId": "6633062a-0444-4d38-968a-d5dda027e77a",
        "colab": {
          "base_uri": "https://localhost:8080/",
          "height": 54
        }
      },
      "source": [
        "print('Accuracy:', accuracy)"
      ],
      "execution_count": null,
      "outputs": [
        {
          "output_type": "stream",
          "text": [
            "Accuracy: [0.3519552946090698, 0.3556796908378601, 0.4897579252719879, 0.5810055732727051, 0.6387336850166321, 0.6424580812454224, 0.6443203091621399, 0.6424580812454224, 0.6461824774742126, 0.6461824774742126, 0.6554934978485107, 0.6536312699317932, 0.6517691016197205, 0.6554934978485107, 0.6629422903060913, 0.6685288548469543, 0.6778398752212524, 0.6797020435333252, 0.6722532510757446, 0.6759776473045349, 0.6834264397621155, 0.6797020435333252, 0.6964617967605591, 0.690875232219696, 0.6759776473045349, 0.6964617967605591, 0.6927374005317688, 0.6964617967605591, 0.6815642714500427, 0.6871508359909058, 0.6945996284484863, 0.6964617967605591, 0.7076349854469299, 0.7001861929893494, 0.7076349854469299, 0.7001861929893494, 0.7076349854469299, 0.7076349854469299, 0.7113593816757202, 0.7039105892181396, 0.7206704020500183, 0.7094972133636475, 0.7039105892181396, 0.7076349854469299, 0.7206704020500183, 0.7299813628196716, 0.7132216095924377, 0.7094972133636475, 0.7150837779045105, 0.7243947982788086, 0.6983240246772766, 0.7020484209060669, 0.716946005821228, 0.7150837779045105, 0.7001861929893494, 0.7132216095924377, 0.7039105892181396, 0.7281191945075989, 0.7094972133636475, 0.7337057590484619, 0.7225325703620911, 0.7299813628196716, 0.7076349854469299, 0.7318435907363892, 0.7243947982788086, 0.7132216095924377, 0.7337057590484619, 0.7262569665908813, 0.7318435907363892, 0.7206704020500183, 0.7355679869651794, 0.7448789477348328, 0.7281191945075989, 0.7262569665908813, 0.7392923831939697, 0.7392923831939697, 0.7225325703620911, 0.7355679869651794, 0.7374301552772522, 0.7281191945075989, 0.7355679869651794, 0.7355679869651794, 0.7150837779045105, 0.7337057590484619, 0.7392923831939697, 0.7392923831939697, 0.7299813628196716, 0.7262569665908813, 0.7467411756515503, 0.7355679869651794, 0.7337057590484619, 0.7392923831939697, 0.7318435907363892, 0.7374301552772522, 0.7411545515060425, 0.7337057590484619, 0.7243947982788086, 0.7504655718803406, 0.7355679869651794, 0.7523277401924133, 0.7243947982788086, 0.7262569665908813, 0.7504655718803406, 0.748603343963623, 0.7374301552772522, 0.7448789477348328, 0.7411545515060425, 0.74301677942276, 0.7392923831939697, 0.7448789477348328]\n"
          ],
          "name": "stdout"
        }
      ]
    },
    {
      "cell_type": "code",
      "metadata": {
        "id": "rI_A5ZwIN2jJ",
        "outputId": "d6c634f7-9653-4b24-89c8-ea314df181d0",
        "colab": {
          "base_uri": "https://localhost:8080/",
          "height": 54
        }
      },
      "source": [
        "print('Loss:', loss)"
      ],
      "execution_count": null,
      "outputs": [
        {
          "output_type": "stream",
          "text": [
            "Loss: [21.282325744628906, 9.45272445678711, 3.959181308746338, 1.6546283960342407, 1.1028203964233398, 0.9531843066215515, 0.8588233590126038, 0.7852705121040344, 0.7432208061218262, 0.7174473404884338, 0.6963415145874023, 0.6828194260597229, 0.6728716492652893, 0.6591395735740662, 0.665921151638031, 0.643497109413147, 0.6338650584220886, 0.6384238004684448, 0.6325036287307739, 0.6215223073959351, 0.6193857192993164, 0.6269115805625916, 0.6171409487724304, 0.6185703873634338, 0.6147781610488892, 0.6082769632339478, 0.6085954904556274, 0.6004081964492798, 0.6205808520317078, 0.6078417897224426, 0.5993193984031677, 0.6043081879615784, 0.5928736925125122, 0.5919647812843323, 0.5923482179641724, 0.5978066921234131, 0.5980029702186584, 0.5978261828422546, 0.5935074687004089, 0.5905194282531738, 0.5892503261566162, 0.5878486037254333, 0.5912474393844604, 0.5913225412368774, 0.5820910334587097, 0.5824876427650452, 0.58648282289505, 0.5787361264228821, 0.5814597606658936, 0.5782227516174316, 0.5805538892745972, 0.5890315175056458, 0.5741056799888611, 0.5794563889503479, 0.5801517963409424, 0.5738463997840881, 0.578519880771637, 0.5690861344337463, 0.5706122517585754, 0.5732901096343994, 0.5683465600013733, 0.565845251083374, 0.5670451521873474, 0.566100001335144, 0.562941312789917, 0.5647410154342651, 0.563823938369751, 0.5600622892379761, 0.5597606301307678, 0.5624829530715942, 0.5591414570808411, 0.553289532661438, 0.5538531541824341, 0.5557746291160583, 0.5568968653678894, 0.5490301847457886, 0.551760196685791, 0.5466779470443726, 0.5473713874816895, 0.5494931936264038, 0.5475166440010071, 0.5422275066375732, 0.5568307638168335, 0.5493761897087097, 0.544308066368103, 0.5411843061447144, 0.5410300493240356, 0.5395606756210327, 0.5383663177490234, 0.5401877164840698, 0.5391398668289185, 0.5330925583839417, 0.539977490901947, 0.5315510630607605, 0.5347942113876343, 0.5475347638130188, 0.5416513681411743, 0.5295781493186951, 0.533778727054596, 0.5312218070030212, 0.5361552238464355, 0.5388234853744507, 0.5297848582267761, 0.5271396040916443, 0.5245490074157715, 0.522219181060791, 0.5230404734611511, 0.5230289101600647, 0.5274721384048462, 0.5250140428543091]\n"
          ],
          "name": "stdout"
        }
      ]
    },
    {
      "cell_type": "code",
      "metadata": {
        "id": "JNH-CG1tOhub",
        "outputId": "4da8e36c-ab41-4d63-c2bb-18b885d268fb",
        "colab": {
          "base_uri": "https://localhost:8080/",
          "height": 54
        }
      },
      "source": [
        "print('val_accuracy', val_accuracy)"
      ],
      "execution_count": null,
      "outputs": [
        {
          "output_type": "stream",
          "text": [
            "val_accuracy [0.3419913351535797, 0.37662336230278015, 0.48917749524116516, 0.6060606241226196, 0.6190476417541504, 0.5670995712280273, 0.5800865888595581, 0.5974025726318359, 0.6406926512718201, 0.6147186160087585, 0.6060606241226196, 0.6017315983772278, 0.6103895902633667, 0.6363636255264282, 0.6017315983772278, 0.6233766078948975, 0.6320346593856812, 0.5974025726318359, 0.6103895902633667, 0.6277056336402893, 0.5800865888595581, 0.6406926512718201, 0.6103895902633667, 0.6147186160087585, 0.5930736064910889, 0.6060606241226196, 0.6190476417541504, 0.5844155550003052, 0.5714285969734192, 0.6017315983772278, 0.5714285969734192, 0.6017315983772278, 0.6233766078948975, 0.6190476417541504, 0.6363636255264282, 0.6363636255264282, 0.588744580745697, 0.5800865888595581, 0.6363636255264282, 0.5844155550003052, 0.6406926512718201, 0.5974025726318359, 0.5974025726318359, 0.6103895902633667, 0.6406926512718201, 0.6363636255264282, 0.6363636255264282, 0.5974025726318359, 0.649350643157959, 0.6277056336402893, 0.6363636255264282, 0.6536796689033508, 0.6623376607894897, 0.6017315983772278, 0.6536796689033508, 0.6623376607894897, 0.649350643157959, 0.649350643157959, 0.6666666865348816, 0.6580086350440979, 0.6666666865348816, 0.6580086350440979, 0.6623376607894897, 0.6320346593856812, 0.6320346593856812, 0.6623376607894897, 0.6709956526756287, 0.6709956526756287, 0.6883116960525513, 0.6839826703071594, 0.701298713684082, 0.6536796689033508, 0.6796537041664124, 0.6926407217979431, 0.6450216174125671, 0.6450216174125671, 0.6796537041664124, 0.649350643157959, 0.6709956526756287, 0.709956705570221, 0.6883116960525513, 0.6277056336402893, 0.6796537041664124, 0.6363636255264282, 0.7056276798248291, 0.6753246784210205, 0.6753246784210205, 0.6406926512718201, 0.6580086350440979, 0.6796537041664124, 0.6839826703071594, 0.6796537041664124, 0.701298713684082, 0.6969696879386902, 0.6969696879386902, 0.6666666865348816, 0.6969696879386902, 0.7056276798248291, 0.7056276798248291, 0.701298713684082, 0.6839826703071594, 0.6969696879386902, 0.7142857313156128, 0.701298713684082, 0.6969696879386902, 0.6536796689033508, 0.7056276798248291, 0.701298713684082, 0.6969696879386902, 0.701298713684082]\n"
          ],
          "name": "stdout"
        }
      ]
    },
    {
      "cell_type": "code",
      "metadata": {
        "id": "G_AK6MwIO0rx",
        "outputId": "39ee6392-3fd4-4b43-e4fd-de8037ad3414",
        "colab": {
          "base_uri": "https://localhost:8080/",
          "height": 54
        }
      },
      "source": [
        "print('val_loss', val_loss)"
      ],
      "execution_count": null,
      "outputs": [
        {
          "output_type": "stream",
          "text": [
            "val_loss [13.627470016479492, 5.787054538726807, 2.1138970851898193, 0.9111829400062561, 0.7743409872055054, 0.7699419260025024, 0.7598844170570374, 0.7542641758918762, 0.7391826510429382, 0.7255322337150574, 0.7231484651565552, 0.7183371782302856, 0.7177144885063171, 0.7019433975219727, 0.7123318910598755, 0.7072808742523193, 0.7135344743728638, 0.7129555940628052, 0.7035284042358398, 0.694974422454834, 0.7061458826065063, 0.687201738357544, 0.6877776980400085, 0.6860588788986206, 0.6807603240013123, 0.6819676160812378, 0.6783726811408997, 0.7025659680366516, 0.684969425201416, 0.6789838075637817, 0.6778717041015625, 0.6705982685089111, 0.6638129353523254, 0.6612435579299927, 0.6627024412155151, 0.6622664332389832, 0.6693877577781677, 0.6905973553657532, 0.6600258350372314, 0.6853697896003723, 0.656661868095398, 0.6683750748634338, 0.670207142829895, 0.6668248176574707, 0.6517438888549805, 0.6488344073295593, 0.6534981727600098, 0.66315758228302, 0.6473549604415894, 0.6548134684562683, 0.642174243927002, 0.6432861089706421, 0.6419484615325928, 0.6618244051933289, 0.6397333741188049, 0.6397523283958435, 0.6413663029670715, 0.6392256617546082, 0.6391907930374146, 0.6381590366363525, 0.6321428418159485, 0.6368213891983032, 0.6322499513626099, 0.6394287943840027, 0.64304119348526, 0.6300788521766663, 0.6278443932533264, 0.6261519193649292, 0.6342401504516602, 0.6246181130409241, 0.6250974535942078, 0.6290975213050842, 0.6228644847869873, 0.6266767382621765, 0.6314474940299988, 0.628293514251709, 0.6178951263427734, 0.6305168271064758, 0.6159924864768982, 0.623848021030426, 0.6128020286560059, 0.6396817564964294, 0.6112536787986755, 0.6333292126655579, 0.6161251068115234, 0.6058769226074219, 0.61297607421875, 0.6210067272186279, 0.6162711977958679, 0.6088439226150513, 0.6033613085746765, 0.6095874905586243, 0.5961365103721619, 0.5959571599960327, 0.5962888598442078, 0.6099330186843872, 0.5927060842514038, 0.5921255946159363, 0.591914176940918, 0.5923871397972107, 0.6097918748855591, 0.5859032869338989, 0.5828871726989746, 0.5829742550849915, 0.5846331715583801, 0.6065906286239624, 0.5817287564277649, 0.5867043733596802, 0.5810381770133972, 0.5792232155799866]\n"
          ],
          "name": "stdout"
        }
      ]
    },
    {
      "cell_type": "markdown",
      "metadata": {
        "id": "3RDjNVmEPXAo"
      },
      "source": [
        "## Model ile İlgili Tahminlerin Yapılması\n",
        "\n",
        "Model ile ilgili tahminler `predict()` fonksiyonunu kullanılarak yapılabilmektedir."
      ]
    },
    {
      "cell_type": "code",
      "metadata": {
        "id": "rPN8WKxFvnPb"
      },
      "source": [
        "predictions = model.predict(X)"
      ],
      "execution_count": null,
      "outputs": []
    },
    {
      "cell_type": "markdown",
      "metadata": {
        "id": "BNevGygEeSIb"
      },
      "source": [
        "Veri setindeki ilk beş giriş değişkenini aşağıda inceleyelim.  Bu adımda ilk beş giriş değişkeninin girdi değerleri, tahmin edilen sınıf değerleri ve beklenilen sınıf değerleri(expected) yazdırılır. Böylece tahmin edilen değerler ile beklenilen değerlerin kıyaslaması yapılabilir. Bu kıyaslama aşamasında sağlanacak doğruluk değeri yukarıda elde ettiğimiz değeri destekleyecektir."
      ]
    },
    {
      "cell_type": "code",
      "metadata": {
        "id": "IIzhLMMyx4ny",
        "outputId": "5749597c-7796-4f5c-8e3d-eece90876acd",
        "colab": {
          "base_uri": "https://localhost:8080/",
          "height": 105
        }
      },
      "source": [
        "for i in range(5):\n",
        "\tprint('%s => %d (expected %d)' % (X[i].tolist(), predictions[i], y[i]))"
      ],
      "execution_count": null,
      "outputs": [
        {
          "output_type": "stream",
          "text": [
            "[6.0, 148.0, 72.0, 35.0, 0.0, 33.6, 0.627, 50.0] => 0 (expected 1)\n",
            "[1.0, 85.0, 66.0, 29.0, 0.0, 26.6, 0.351, 31.0] => 0 (expected 0)\n",
            "[8.0, 183.0, 64.0, 0.0, 0.0, 23.3, 0.672, 32.0] => 0 (expected 1)\n",
            "[1.0, 89.0, 66.0, 23.0, 94.0, 28.1, 0.167, 21.0] => 0 (expected 0)\n",
            "[0.0, 137.0, 40.0, 35.0, 168.0, 43.1, 2.288, 33.0] => 0 (expected 1)\n"
          ],
          "name": "stdout"
        }
      ]
    },
    {
      "cell_type": "markdown",
      "metadata": {
        "id": "G9ttCBx92E61"
      },
      "source": [
        "## Keşif"
      ]
    },
    {
      "cell_type": "markdown",
      "metadata": {
        "id": "czcUsOgxhzc-"
      },
      "source": [
        "Veri setindeki giriş değişkenlerinin sadece ilkini görmek istersek aşağıdaki gibi yazdırabiliriz. Benzer olarak diğer değişkenler de yazdırılabilir."
      ]
    },
    {
      "cell_type": "code",
      "metadata": {
        "id": "KFisJNrww0xV",
        "outputId": "3421c7a9-fe71-492e-f532-cedf39224673",
        "colab": {
          "base_uri": "https://localhost:8080/",
          "height": 52
        }
      },
      "source": [
        "X[0]"
      ],
      "execution_count": null,
      "outputs": [
        {
          "output_type": "execute_result",
          "data": {
            "text/plain": [
              "array([  6.   , 148.   ,  72.   ,  35.   ,   0.   ,  33.6  ,   0.627,\n",
              "        50.   ])"
            ]
          },
          "metadata": {
            "tags": []
          },
          "execution_count": 25
        }
      ]
    },
    {
      "cell_type": "markdown",
      "metadata": {
        "id": "4d8uX4pait_o"
      },
      "source": [
        "Giriş değişkenlerinin şeklini görmek istersek aşağıdaki hücrede olduğu gibi kontrolünü yapabiliriz. Elde edilen `(768, 8)`  formundaki çıktıyı, toplam 768 verinin herbirinin 8 değere sahip bir vektör olduğu şeklinde yorumlayabiliriz."
      ]
    },
    {
      "cell_type": "code",
      "metadata": {
        "id": "xwcvarPasQNw",
        "outputId": "197f59d0-489f-4638-9c6a-69732b4c5f7c",
        "colab": {
          "base_uri": "https://localhost:8080/",
          "height": 34
        }
      },
      "source": [
        "img = X\n",
        "print(img.shape)"
      ],
      "execution_count": null,
      "outputs": [
        {
          "output_type": "stream",
          "text": [
            "(768, 8)\n"
          ],
          "name": "stdout"
        }
      ]
    },
    {
      "cell_type": "markdown",
      "metadata": {
        "id": "3Jb4BpsXtrOC"
      },
      "source": [
        "Bu adımda ise 768 veriden sadece bir tanesini ele alalım. Yukarıda belirtmiş olduğumuz gibi bu 768 veriden sadece bir tanesi olan `X[0]`, 8 değere sahip bir vektördür. Benzer olarak `X[1], X[2], ...` için de aynı yorum yapılabilir."
      ]
    },
    {
      "cell_type": "code",
      "metadata": {
        "id": "GEPwvlJ6xNCF",
        "outputId": "0d1db74e-978b-4ccb-e46a-476a283b7fba",
        "colab": {
          "base_uri": "https://localhost:8080/",
          "height": 34
        }
      },
      "source": [
        "img = X[0]\n",
        "print(img.shape)"
      ],
      "execution_count": null,
      "outputs": [
        {
          "output_type": "stream",
          "text": [
            "(8,)\n"
          ],
          "name": "stdout"
        }
      ]
    },
    {
      "cell_type": "markdown",
      "metadata": {
        "id": "6SMxfXlJwiD8"
      },
      "source": [
        "Bir alt hücrede olduğu gibi tahmin değerlerinin şekli için elde edilen `(768,1)` formundaki çıktıyı, 768 tane olan her bir tahminin sadece 1 tane değere(0 veya 1) sahip olan bir vektör olduğu şeklinde yorumlayabiliriz."
      ]
    },
    {
      "cell_type": "code",
      "metadata": {
        "id": "KeaNMrt0weKO",
        "outputId": "fbc261c7-70d7-48da-eda9-ad14f2c738a3",
        "colab": {
          "base_uri": "https://localhost:8080/",
          "height": 34
        }
      },
      "source": [
        "predictions.shape"
      ],
      "execution_count": null,
      "outputs": [
        {
          "output_type": "execute_result",
          "data": {
            "text/plain": [
              "(768, 1)"
            ]
          },
          "metadata": {
            "tags": []
          },
          "execution_count": 28
        }
      ]
    },
    {
      "cell_type": "markdown",
      "metadata": {
        "id": "BkYQuNU1r8YV"
      },
      "source": [
        "Veri tipini aşağıdaki gibi kontrol edebiliriz."
      ]
    },
    {
      "cell_type": "code",
      "metadata": {
        "id": "QV30U_MPrrWG",
        "outputId": "784805b7-b7a2-4c01-d82f-2cfa2eddbaa8",
        "colab": {
          "base_uri": "https://localhost:8080/",
          "height": 34
        }
      },
      "source": [
        "print(X.dtype)"
      ],
      "execution_count": null,
      "outputs": [
        {
          "output_type": "stream",
          "text": [
            "float64\n"
          ],
          "name": "stdout"
        }
      ]
    },
    {
      "cell_type": "markdown",
      "metadata": {
        "id": "CAbF5E_DRJYL"
      },
      "source": [
        "## Modelin Görselleştirilmesi\n",
        "\n",
        "Modelin başarım ve kayıp değerlerini aşağıdaki gibi görselleştirebilir, grafik üzerinden yorumlayabiliriz."
      ]
    },
    {
      "cell_type": "code",
      "metadata": {
        "id": "rhfjK6yARQBV",
        "outputId": "ab896bd8-ac64-4a83-9cc8-a463d3202701",
        "colab": {
          "base_uri": "https://localhost:8080/",
          "height": 294
        }
      },
      "source": [
        "plt.plot(history.history['accuracy'])\n",
        "plt.plot(history.history['val_accuracy'])\n",
        "plt.title('Model Başarımı')\n",
        "plt.ylabel('Başarım')\n",
        "plt.xlabel('Epok')\n",
        "plt.legend(['Eğitim Başarımı', 'Doğrulama Başarımı'], loc='lower right')\n",
        "plt.show()"
      ],
      "execution_count": null,
      "outputs": [
        {
          "output_type": "display_data",
          "data": {
            "image/png": "[encoded data removed]",
            "text/plain": [
              "<Figure size 432x288 with 1 Axes>"
            ]
          },
          "metadata": {
            "tags": [],
            "needs_background": "light"
          }
        }
      ]
    },
    {
      "cell_type": "code",
      "metadata": {
        "id": "xKuRuH7JUxrS",
        "outputId": "3bb609ac-9212-484e-90ac-80d7ba2a1e9f",
        "colab": {
          "base_uri": "https://localhost:8080/",
          "height": 294
        }
      },
      "source": [
        "plt.plot(history.history['loss'])\n",
        "plt.plot(history.history['val_loss'])\n",
        "plt.title('Model Kaybı')\n",
        "plt.ylabel('Kayıp')\n",
        "plt.xlabel('Epok')\n",
        "plt.legend(['Eğitim Kaybı', 'Doğrulama Kaybı'], loc='upper right')\n",
        "plt.show()"
      ],
      "execution_count": null,
      "outputs": [
        {
          "output_type": "display_data",
          "data": {
            "image/png": "[encoded data removed]",
            "text/plain": [
              "<Figure size 432x288 with 1 Axes>"
            ]
          },
          "metadata": {
            "tags": [],
            "needs_background": "light"
          }
        }
      ]
    },
    {
      "cell_type": "markdown",
      "metadata": {
        "id": "B7XeSmz8DcVA"
      },
      "source": [
        "## Referanslar\n",
        "\n",
        "1. Machine Learning Mastery, Your First Deep Learning Project in Python with Keras Step-By-Step\n",
        "2. François Chollet, Python ile Derin Öğrenme, 2019\n",
        "\n",
        "\n"
      ]
    }
  ]
}